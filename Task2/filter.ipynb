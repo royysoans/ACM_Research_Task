{
 "cells": [
  {
   "cell_type": "code",
   "execution_count": 1,
   "id": "f90970e1",
   "metadata": {},
   "outputs": [],
   "source": [
    "import pandas as pd"
   ]
  },
  {
   "cell_type": "code",
   "execution_count": 2,
   "id": "2908ecc5",
   "metadata": {},
   "outputs": [],
   "source": [
    "df=pd.read_csv(\"survey.csv\")"
   ]
  },
  {
   "cell_type": "code",
   "execution_count": 3,
   "id": "c946f720",
   "metadata": {},
   "outputs": [
    {
     "name": "stdout",
     "output_type": "stream",
     "text": [
      "\n",
      "Missing values count:\n",
      "Name        1\n",
      "Age         1\n",
      "Feedback    2\n",
      "dtype: int64\n"
     ]
    }
   ],
   "source": [
    "print(\"\\nMissing values count:\")\n",
    "print(df.isna().sum())"
   ]
  },
  {
   "cell_type": "code",
   "execution_count": 4,
   "id": "1f390c13",
   "metadata": {},
   "outputs": [],
   "source": [
    "df=df.dropna(subset=[\"Name\"]) #Drop rows where Name is missing "
   ]
  },
  {
   "cell_type": "code",
   "execution_count": 5,
   "id": "d8734912",
   "metadata": {},
   "outputs": [],
   "source": [
    "df[\"Feedback\"]=df[\"Feedback\"].fillna(\"No feedback\") #If feedback not given fill it as \"NO feedback\""
   ]
  },
  {
   "cell_type": "code",
   "execution_count": 6,
   "id": "e0e89945",
   "metadata": {},
   "outputs": [],
   "source": [
    "df[\"Age\"]=df[\"Age\"].fillna(df[\"Age\"].mean().round()).astype(int) #fill missing age values with mean"
   ]
  },
  {
   "cell_type": "markdown",
   "id": "d7e39844",
   "metadata": {},
   "source": [
    "Now we apply sentiments to the feedback given by those who filled the survey"
   ]
  },
  {
   "cell_type": "code",
   "execution_count": 7,
   "id": "ae8fb79e",
   "metadata": {},
   "outputs": [],
   "source": [
    "def sentiment(feedback_text):\n",
    "    positive_words=['helpful', 'amazing', 'great', 'fine']\n",
    "    negative_words=['incomplete', 'more examples']\n",
    "    \n",
    "    feedback_text=str(feedback_text).lower()\n",
    "    \n",
    "    for word in positive_words:\n",
    "        if word in feedback_text:\n",
    "            return 'Positive'\n",
    "            \n",
    "    for word in negative_words:\n",
    "        if word in feedback_text:\n",
    "            return 'Negative'\n",
    "            \n",
    "    return 'Neutral' \n",
    "\n",
    "df['Sentiment']=df['Feedback'].apply(sentiment)"
   ]
  },
  {
   "cell_type": "code",
   "execution_count": 8,
   "id": "723aeb30",
   "metadata": {},
   "outputs": [
    {
     "name": "stdout",
     "output_type": "stream",
     "text": [
      "Survey Data:\n",
      "             Name  Age                          Feedback Sentiment\n",
      "0  Royston Soans   18      The course was very helpful!  Positive\n",
      "1      Deep Shah   19          Could use more examples.  Negative\n",
      "2   Vivan Tejani   18                          Amazing!  Positive\n",
      "3    Chris Evans   18                       No feedback   Neutral\n",
      "4        Atharva   20  I felt the course was incomplete  Negative\n",
      "5   Krish Sawant   18                      Great course  Positive\n",
      "6    Kevin Soans   10                              fine  Positive\n",
      "7      Raj Patel   22                       No feedback   Neutral\n"
     ]
    }
   ],
   "source": [
    "print(\"Survey Data:\\n\",df)"
   ]
  }
 ],
 "metadata": {
  "kernelspec": {
   "display_name": "base",
   "language": "python",
   "name": "python3"
  },
  "language_info": {
   "codemirror_mode": {
    "name": "ipython",
    "version": 3
   },
   "file_extension": ".py",
   "mimetype": "text/x-python",
   "name": "python",
   "nbconvert_exporter": "python",
   "pygments_lexer": "ipython3",
   "version": "3.13.5"
  }
 },
 "nbformat": 4,
 "nbformat_minor": 5
}
